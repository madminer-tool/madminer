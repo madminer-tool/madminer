{
 "cells": [
  {
   "cell_type": "markdown",
   "metadata": {},
   "source": [
    "# Morphing Examples"
   ]
  },
  {
   "cell_type": "markdown",
   "metadata": {},
   "source": [
    "Morphing is a functionality implemented by madminer that allows for the fast and exact interpolation of event weights (or any derived quantity) from a set of original benchmark points (the “morphing basis”) to anywhere in theory parameter space. In this jupyter notebook, we will be focusing on how to use the morphing function of madminer."
   ]
  },
  {
   "cell_type": "code",
   "execution_count": 1,
   "metadata": {},
   "outputs": [],
   "source": [
    "# Preparation\n",
    "import numpy as np\n",
    "\n",
    "from madminer.utils import morphing as m"
   ]
  },
  {
   "cell_type": "markdown",
   "metadata": {},
   "source": [
    "The current morphing function can take in two different format of inputs. One format is setting basis points default as work for both and production and decay, with the basis points input shape of (n_basis_points, n_parameters); The other allow user to specify couplings groups of production (gp), decay(gd) and same (gs, work as both production and decay) separately, each with a shape of (n_parameters, n_basis_points). Both ways support overdetermine morphing, which allows user to input as many basis_points as possible for better results. Both methods should output the same matrix and weights values. "
   ]
  },
  {
   "cell_type": "markdown",
   "metadata": {},
   "source": [
    "## 1. First Input Format"
   ]
  },
  {
   "cell_type": "code",
   "execution_count": 2,
   "metadata": {},
   "outputs": [
    {
     "name": "stdout",
     "output_type": "stream",
     "text": [
      "Generated Components: \n",
      " [[0 0]\n",
      " [0 1]\n",
      " [0 2]\n",
      " [1 0]\n",
      " [1 1]\n",
      " [1 2]\n",
      " [2 0]\n",
      " [2 1]\n",
      " [2 2]]\n",
      "Minimum number of basis points needed:\n",
      " 5.0\n",
      "Input Components:\n",
      " [[4 0]\n",
      " [3 1]\n",
      " [2 2]\n",
      " [1 3]\n",
      " [0 4]]\n",
      "basis:\n",
      " [[ 1 -5]\n",
      " [ 1 -4]\n",
      " [ 1 -3]\n",
      " [ 1 -2]\n",
      " [ 1 -1]]\n"
     ]
    }
   ],
   "source": [
    "# Example of using the first input format that default couplings that work for both decay and production couplings.\n",
    "\n",
    "# First, we should create a new morpher object using the code below\n",
    "morpher_1 = m.PhysicsMorpher(parameter_max_power=[2, 2])\n",
    "\n",
    "# Components is the power of each parameter in the given coupling combination.\n",
    "# If the equation is gs_0^2 * gs_1^3, the components for this combination is [2,3]\n",
    "# if no known components, we can use the find_components() to find components with n_basis\n",
    "components = morpher_1.find_components()\n",
    "print(\"Generated Components: \\n\", components)\n",
    "\n",
    "# We can get the minimum number of independent samples requires with the get_min_basis function\n",
    "N_min = morpher_1.get_min_basis(Ns=2)\n",
    "print(\"Minimum number of basis points needed:\\n\", N_min)\n",
    "\n",
    "# if we have power of components in hand, we can use morpher.set_components() to set components\n",
    "this_components = np.array([[4, 0], [3, 1], [2, 2], [1, 3], [0, 4]])\n",
    "morpher_1.set_components(this_components)\n",
    "print(\"Input Components:\\n\", morpher_1.components)\n",
    "\n",
    "# Then we can set basis, the morpher.set_basis() should be called after the components is set\n",
    "basis_numpy = np.array([[1, -5], [1, -4], [1, -3], [1, -2], [1, -1]])\n",
    "morpher_1.set_basis(basis_numpy=basis_numpy)\n",
    "print(\"basis:\\n\", morpher_1.basis)\n",
    "\n",
    "# To this step, the preparation works are done."
   ]
  },
  {
   "cell_type": "code",
   "execution_count": 3,
   "metadata": {},
   "outputs": [],
   "source": [
    "# calculate W_i and Neff/xsec with W_i = w_i*sigma_i and Neff = sum(W_i)\n",
    "def calculate_predict_xsec(xsec, morphing_weights):\n",
    "    index = len(morphing_weights)\n",
    "    if len(xsec) < index:\n",
    "        raise Exception(\"The number of xsec values is smaller than the number of morphing weights\")\n",
    "\n",
    "    # Get the corresponding xsec values for the morphing weights\n",
    "    this_xsec = xsec[:index]\n",
    "    W_i = np.multiply(this_xsec, morphing_weights, dtype=np.float32)\n",
    "    return sum(W_i)"
   ]
  },
  {
   "cell_type": "code",
   "execution_count": 4,
   "metadata": {},
   "outputs": [
    {
     "name": "stdout",
     "output_type": "stream",
     "text": [
      "Morphing matrix: \n",
      " [[  1.          -5.          10.         -10.           5.        ]\n",
      " [  2.08333333 -10.16666667  19.5        -17.83333333   6.41666667]\n",
      " [  1.45833333  -6.83333333  12.25        -9.83333333   2.95833333]\n",
      " [  0.41666667  -1.83333333   3.          -2.16666667   0.58333333]\n",
      " [  0.04166667  -0.16666667   0.25        -0.16666667   0.04166667]]\n",
      "Morphing matrix weights: \n",
      " [  5. -24.  45. -40.  15.]\n",
      "n_base_5 predict xsec value: \n",
      " 0.41500043869018555\n",
      "simulated value: \n",
      " 0.328\n",
      "\n",
      "\n"
     ]
    }
   ],
   "source": [
    "# Then we can calculate the morphing matrix and corresponding weights with the information we input above.\n",
    "morphing_1_matrix = morpher_1.calculate_morphing_matrix()\n",
    "print(\"Morphing matrix: \\n\", morphing_1_matrix)\n",
    "\n",
    "# in the parameter input we had input basis points such from (1,-5) to (1,-1).\n",
    "# if we want to predict the point theta = [1,1], and the known xsec is listed below\n",
    "# The corresponding xsec for the above basis points are xsec_simulated[0:5]\n",
    "# we are predicting the value of xsec_simulated[6]\n",
    "xsec_simulated = np.array([0.759, 0.53, 0.4, 0.335, 0.316, 0.316, 0.328, 0.34, 0.354, 0.364])\n",
    "morphing_1_weights = morpher_1.calculate_morphing_weights(theta=[1, 1])\n",
    "print(\"Morphing matrix weights: \\n\", morphing_1_weights)\n",
    "\n",
    "n_base_5 = calculate_predict_xsec(morphing_weights=morphing_1_weights, xsec=xsec_simulated)\n",
    "print(\"n_base_5 predict xsec value: \\n\", n_base_5)\n",
    "print(\"simulated value: \\n\", xsec_simulated[6])\n",
    "print(\"\\n\")\n",
    "\n",
    "# We can see and compare the predicted value with the simulated values."
   ]
  },
  {
   "cell_type": "markdown",
   "metadata": {},
   "source": [
    "## 2. Second Input Format\n",
    "\n",
    "The second input format allows you to specify basis from different couplings separately, which allows user to specify couplings groups of production (gp), decay(gd) and same (gs, work as both production and decay) separately, each with a shape of (n_parameters, n_basis_points). In addition, the second input format supports overdetermined morphing, which allows you to input more basis points than minimun requirement for better accuracy. "
   ]
  },
  {
   "cell_type": "code",
   "execution_count": 5,
   "metadata": {},
   "outputs": [],
   "source": [
    "# Example of the second input format that allows user to specify different coupling groups.\n",
    "# We will show the overdetermined functionality and compare with the previous result first.\n",
    "\n",
    "# First, we should create a new morpher object using the code below\n",
    "morpher_2 = m.PhysicsMorpher(parameter_max_power=[2, 2])\n",
    "\n",
    "# We set the component value the same as previous\n",
    "this_components = np.array([[4, 0], [3, 1], [2, 2], [1, 3], [0, 4]])\n",
    "morpher_2.set_components(this_components)\n",
    "\n",
    "# gs means the couplings that work for both production and decay.\n",
    "# Please note that the input format of each coupling group is the transpose of the previous format\n",
    "# In this case, the gs will have six basis points instead of the previous 5\n",
    "gs = np.array(\n",
    "    [\n",
    "        [+1, +1, +1, +1, +1, 1],\n",
    "        [-5, -4, -3, -2, -1, 0],\n",
    "    ]\n",
    ")\n",
    "\n",
    "# We set the basis value of the morpher\n",
    "morpher_2.set_basis(basis_d=None, basis_p=None, basis_s=gs)\n",
    "\n",
    "# To this step, the preparation works are done."
   ]
  },
  {
   "cell_type": "code",
   "execution_count": 6,
   "metadata": {},
   "outputs": [
    {
     "name": "stdout",
     "output_type": "stream",
     "text": [
      "simulated value: 0.328\n",
      "regular predict value 0.41500043869018555\n",
      "overdetermined predict value: 0.3191666603088379\n"
     ]
    }
   ],
   "source": [
    "# The other functions are the same as the previous example\n",
    "# We can get the morphing functions, weights, and xsec values\n",
    "morpher_2_matrix = morpher_2.calculate_morphing_matrix()\n",
    "\n",
    "# We input the same theta value as the previous example\n",
    "morpher_2_weight = morpher_2.calculate_morphing_weights(theta=[1, 1])\n",
    "\n",
    "# calculate the predicted value of point [1,1] with six basis points\n",
    "n_base_6 = calculate_predict_xsec(morphing_weights=morpher_2_weight, xsec=xsec_simulated)\n",
    "\n",
    "# We compare the results of the regular and overdetermined morphing with simulated value\n",
    "\n",
    "print(\"simulated value:\", xsec_simulated[6])\n",
    "print(\"regular predict value\", n_base_5)\n",
    "print(\"overdetermined predict value:\", n_base_6)\n",
    "\n",
    "# We can see with only one additional basis point, the predicted value is much more close to the simulated value"
   ]
  },
  {
   "cell_type": "markdown",
   "metadata": {},
   "source": [
    "Below is a table showing the results with different number of basis points(5/7) of the example above. We can see that the more points and the corresponding points are provided, the better prediction results we will get from the morphing. \n",
    "\n"
   ]
  },
  {
   "cell_type": "markdown",
   "metadata": {},
   "source": [
    "| gs_1 | gs_2 | simulated | n_base = 5          | n_base = 7          |\n",
    "|----|----|-----------|---------------------|---------------------|\n",
    "| 1  | -5 | 0.759     | 0.7590000033377339  | 0.7590043565724045  |\n",
    "| 1  | -4 | 0.53      | 0.5299999713898771  | 0.5300930421799421  |\n",
    "| 1  | -3 | 0.4       | 0.40000000596042407 | 0.39946969877928495 |\n",
    "| 1  | -2 | 0.335     | 0.33500000834464144 | 0.3361039091832936  |\n",
    "| 1  | -1 | 0.316     | 0.3160000145435327  | 0.31487447768449783 |\n",
    "| 1  | 0  | 0.316     | 0.33900004625320435 | 0.3165692798793316  |\n",
    "| 1  | 1  | 0.328     | 0.41500043869018555 | 0.32788529992103577 |\n",
    "| 1  | 2  | 0.34      | 0.5700044631958008  | 0.34142857789993286 |\n",
    "| 1  | 3  | 0.354     | 0.8450050354003906  | 0.35571449995040894 |\n",
    "| 1  | 4  | 0.364     | 1.2960090637207031  | 0.3751673698425293  |\n",
    "| 1  | 5  | 0.376     | 1.9940032958984375  | 0.4101197123527527  |\n",
    "| 1  | 7  | 0.4205    | 4.49005126953125    | 0.5974075496196747  |\n",
    "| 1  | 9  | 0.5347    | 9.201080322265625   | 1.1184179782867432  |\n",
    "| 1  | 11 | 0.7822    | 17.23541259765625   | 2.2685461044311523  |\n",
    "| 1  | 13 | 1.244     | 29.94012451171875   | 4.4378204345703125  |"
   ]
  },
  {
   "cell_type": "markdown",
   "metadata": {},
   "source": [
    "## 3. Specifying different coupling groups independently. \n",
    "\n",
    "We mentioned that the second format allows user to specify different coupling groups separately, which allow user to do morphing with more specified basis points selections.\n",
    "Below is an example using this functionality. "
   ]
  },
  {
   "cell_type": "code",
   "execution_count": 7,
   "metadata": {},
   "outputs": [
    {
     "name": "stdout",
     "output_type": "stream",
     "text": [
      "Components with BSM max power restriction of 1:\n",
      " [[2 0 0 2]\n",
      " [1 1 0 2]\n",
      " [1 0 1 2]\n",
      " [0 1 1 2]]\n",
      "Non pmax components:\n",
      " [[2 0 0 2]\n",
      " [1 1 0 2]\n",
      " [1 0 1 2]\n",
      " [0 2 0 2]\n",
      " [0 1 1 2]\n",
      " [0 0 2 2]]\n",
      "Morphing_matrix:\n",
      " [[ 4.00015344e+00  1.73472348e-18 -8.67361738e-19  1.73472348e-18\n",
      "   2.16840434e-19 -4.33680869e-19]\n",
      " [ 1.11022302e-16  3.33346120e-01  2.21710443e-17  1.93280886e-19\n",
      "  -3.33346120e-01 -8.01533606e-17]\n",
      " [-1.14491749e-16 -4.48656738e-17  3.33346120e-01  1.44208707e-18\n",
      "  -4.12791158e-17 -3.33346120e-01]\n",
      " [-1.11115373e-01  5.55576867e-02  4.15495976e-16 -3.33916403e-17\n",
      "   5.55576867e-02 -3.60505754e-16]\n",
      " [ 1.11115373e-01 -1.11115373e-01 -1.11115373e-01  1.11115373e-01\n",
      "  -8.24196939e-17 -5.41626748e-17]\n",
      " [-1.11115373e-01 -3.26528840e-16  5.55576867e-02 -3.78513043e-18\n",
      "   3.79226289e-16  5.55576867e-02]]\n"
     ]
    }
   ],
   "source": [
    "# Suppose we want to set basis with 1 decay coupling and 3 production couplings\n",
    "\n",
    "# In the order of gd, gp, gc, the code will determine the number of each coupling parameter based on gd, gp, gc...\n",
    "n_p = 1\n",
    "n_d = 3\n",
    "n_s = 0\n",
    "\n",
    "# specify gd, gp, gc separately\n",
    "gd = np.array(\n",
    "    [\n",
    "        [0.7071, 0.7071, 0.7071, 0.7071, 0.7071, 0.7071],\n",
    "        [0, 4.2426, 0, 4.2426, -4.2426, 0],\n",
    "        [0, 0, 4.2426, 4.2426, 0, -4.2426],\n",
    "    ]\n",
    ")\n",
    "gp = np.array([[0.7071, 0.7071, 0.7071, 0.7071, 0.7071, 0.7071]])\n",
    "gs = None  # np.array([[1,1,1,1,1], [-5, -4, -3, -2, -1]])\n",
    "\n",
    "# The known xsec values, we can use the first six for inputs and the rest for validating results\n",
    "simulate_xsec = np.array(\n",
    "    [0.515, 0.732, 0.527, 0.742, 0.354, 0.527, 0.364, 0.742, 0.364, 0.621, 0.432, 0.621, 0.432]\n",
    ")\n",
    "\n",
    "# We create a new morpher object\n",
    "morpher_3 = m.PhysicsMorpher(parameter_max_power=[4, 4])\n",
    "\n",
    "# We can also set the BSM_max_power in find_components in this input format\n",
    "# BSM couplings are couplings that are not gd_0, gp_0, gs_0.\n",
    "# In this case as Nd = 1, Np=3, components[0] is gd_0, and components[1] is gp_1,\n",
    "# this will eliminate the groups that the rest values exceed 1\n",
    "components_pmax = morpher_3.find_components(Nd=n_d, Np=n_p, Ns=n_s, BSM_max_power=1)\n",
    "print(\"Components with BSM max power restriction of 1:\\n\", components_pmax)\n",
    "\n",
    "# For this example we will not set the BSM_max limit\n",
    "# you can check and compare the difference with the print statement below.\n",
    "components = morpher_3.find_components(Nd=n_d, Np=n_p, Ns=n_s)\n",
    "print(\"Non pmax components:\\n\", components)\n",
    "\n",
    "# We set the basis and calculate the matrix\n",
    "# We set the known first six basis points as the inputs(gd and gp)\n",
    "morpher_3.set_basis(basis_d=gd, basis_p=gp, basis_s=gs)\n",
    "print(\"Morphing_matrix:\\n\", morpher_3.calculate_morphing_matrix())\n",
    "\n",
    "# The preparation steps are done"
   ]
  },
  {
   "cell_type": "code",
   "execution_count": 8,
   "metadata": {},
   "outputs": [
    {
     "name": "stdout",
     "output_type": "stream",
     "text": [
      "Predict xsec value:  0.4310000017285347\n",
      "Simulated xsec value 0.432\n"
     ]
    }
   ],
   "source": [
    "# Then we calculate the morphing weights, we can use to predict the last known xsec value\n",
    "# We input the basis points positions we want to calculate the xsec_value\n",
    "# theta_d = [d_0, d_1, d_2], theta_p = [p_0]\n",
    "morpher_3_weights = morpher_3.calculate_morphing_weights(\n",
    "    theta_d=[0.7071, -3 * 0.7071, 3 * 0.7071], theta_p=[0.7071]\n",
    ")\n",
    "\n",
    "morpher_3_predicted_xsec = calculate_predict_xsec(\n",
    "    xsec=simulate_xsec, morphing_weights=morpher_3_weights\n",
    ")\n",
    "\n",
    "# The expected xsec value is the last one in simulated_xsec, which is the 13th input we have\n",
    "expected_xsec_value = simulate_xsec[-1]\n",
    "\n",
    "print(\"Predict xsec value: \", morpher_3_predicted_xsec)\n",
    "print(\"Simulated xsec value\", expected_xsec_value)"
   ]
  },
  {
   "cell_type": "markdown",
   "metadata": {},
   "source": [
    "We can see that we are able to predict the xsec value that is very close to the actual simulated xsec values. Remember, we only used the first the six xsec values and points to predict the 13th xsec value. As mentioned earlier, we support overdetermined morphing and can always input more known basis points and corresponding xsec values to get better results. "
   ]
  }
 ],
 "metadata": {
  "kernelspec": {
   "display_name": "Python 3.9.13 64-bit (microsoft store)",
   "language": "python",
   "name": "python3"
  },
  "language_info": {
   "codemirror_mode": {
    "name": "ipython",
    "version": 3
   },
   "file_extension": ".py",
   "mimetype": "text/x-python",
   "name": "python",
   "nbconvert_exporter": "python",
   "pygments_lexer": "ipython3",
   "version": "3.9.13"
  },
  "orig_nbformat": 4,
  "vscode": {
   "interpreter": {
    "hash": "9a1da12185d51e4d5570d6e74c8b7d9786f97c8d6ef8e0db2e857cb13c3f0575"
   }
  }
 },
 "nbformat": 4,
 "nbformat_minor": 2
}
